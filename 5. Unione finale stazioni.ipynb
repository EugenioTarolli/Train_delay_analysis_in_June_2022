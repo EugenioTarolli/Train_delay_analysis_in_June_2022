{
 "cells": [
  {
   "cell_type": "code",
   "execution_count": null,
   "metadata": {},
   "outputs": [],
   "source": [
    "import pandas as pd\n",
    "import numpy as np"
   ]
  },
  {
   "cell_type": "code",
   "execution_count": null,
   "metadata": {},
   "outputs": [],
   "source": [
    "stazioni_vt = pd.read_csv('stazioni_vt.csv')"
   ]
  },
  {
   "cell_type": "code",
   "execution_count": null,
   "metadata": {},
   "outputs": [],
   "source": [
    "stazioni_rfi_binari = pd.read_json('stazioni_binari.json', orient = 'index')\n",
    "stazioni_rfi_binari.reset_index(inplace=True)\n",
    "stazioni_rfi_binari.rename(columns={'index':'nome_stazione_rfi', 0:'binari'}, inplace=True)\n",
    "stazioni_rfi_binari['binari'] = stazioni_rfi_binari['binari'].str.replace(' ', '', regex=False)"
   ]
  },
  {
   "cell_type": "code",
   "execution_count": null,
   "metadata": {},
   "outputs": [],
   "source": [
    "merging_table = pd.read_csv('matching stazioni_vt-stazioni_rfi.csv', index_col=0)"
   ]
  },
  {
   "cell_type": "code",
   "execution_count": null,
   "metadata": {},
   "outputs": [],
   "source": [
    "stazioni_wiki = pd.read_csv('binari wiki.csv', index_col=0)\n",
    "stazioni_wiki = stazioni_wiki['binari_ok']"
   ]
  },
  {
   "cell_type": "code",
   "execution_count": null,
   "metadata": {},
   "outputs": [],
   "source": [
    "stazioni_finale = pd.merge(stazioni_vt, merging_table, left_index=True, right_on='id_vt', how='outer')\n",
    "stazioni_finale = pd.merge(stazioni_finale, stazioni_rfi_binari, left_on='id_rfi', right_index=True, how='left')\n",
    "stazioni_finale.drop(columns=['id_vt', 'id_rfi', 'somigl_nomi_stazioni','nome_stazione_rfi'], inplace=True)\n",
    "stazioni_finale = pd.merge(stazioni_finale, stazioni_wiki, left_on='id', right_index=True, how='left')"
   ]
  },
  {
   "cell_type": "code",
   "execution_count": null,
   "metadata": {},
   "outputs": [],
   "source": [
    "stazioni_finale['binari_finale'] = stazioni_finale['binari'].fillna('').astype(str)+stazioni_finale['binari_ok'].fillna('').astype(str)\n",
    "stazioni_finale['binari_finale'] = stazioni_finale['binari_finale'].str.replace(r'^\\s*$', 'NaN', regex=True)\n",
    "stazioni_finale['binari_finale'] = stazioni_finale['binari_finale'].astype(dtype='float64')\n",
    "stazioni_finale['binari_finale'] = stazioni_finale['binari_finale'].astype(dtype='Int64')\n",
    "stazioni_finale.drop(columns=['binari', 'binari_ok'], inplace=True)\n",
    "stazioni_finale.set_index('id', drop=True, inplace=True)\n",
    "stazioni_finale.to_csv('stazioni_finale.csv')"
   ]
  }
 ],
 "metadata": {
  "kernelspec": {
   "display_name": "Python 3.10.7 64-bit",
   "language": "python",
   "name": "python3"
  },
  "language_info": {
   "name": "python",
   "version": "3.10.7"
  },
  "orig_nbformat": 4,
  "vscode": {
   "interpreter": {
    "hash": "e7370f93d1d0cde622a1f8e1c04877d8463912d04d973331ad4851f04de6915a"
   }
  }
 },
 "nbformat": 4,
 "nbformat_minor": 2
}
