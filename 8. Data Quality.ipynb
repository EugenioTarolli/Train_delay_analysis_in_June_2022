{
 "cells": [
  {
   "cell_type": "code",
   "execution_count": null,
   "metadata": {},
   "outputs": [],
   "source": [
    "import pandas as pd\n",
    "from datetime import datetime\n",
    "import pymongo\n",
    "from pymongo import MongoClient\n",
    "from bson.son import SON"
   ]
  },
  {
   "cell_type": "code",
   "execution_count": null,
   "metadata": {},
   "outputs": [],
   "source": [
    "client = MongoClient('localhost', 27017)\n",
    "db = client.DataManagement\n",
    "treni_regionali = db.TreniRegionali\n",
    "altri_treni = db.AltriTreni"
   ]
  },
  {
   "cell_type": "markdown",
   "metadata": {},
   "source": [
    "Calcolo della currency media per ogni collection."
   ]
  },
  {
   "cell_type": "code",
   "execution_count": null,
   "metadata": {},
   "outputs": [],
   "source": [
    "pipeline = [{\"$unwind\": {'path': '$fermate', 'preserveNullAndEmptyArrays': True}},\n",
    "            {\"$group\": {\"_id\": {\"id\": \"$_id\", \"n_t\": \"$numero_treno\"},\n",
    "                            \"ora\": {\"$max\": {\"$cond\":[{\"$eq\":[\"$fermate.tipo_fermata\", \"A\"]},\n",
    "                                            \"$fermate.arrivo_teorico\", 0]\n",
    "                                            }}}}]\n",
    "\n",
    "lista_regionali = pd.DataFrame(list(treni_regionali.aggregate(pipeline)))\n",
    "lista_altri_treni = pd.DataFrame(list(altri_treni.aggregate(pipeline)))"
   ]
  },
  {
   "cell_type": "code",
   "execution_count": null,
   "metadata": {},
   "outputs": [],
   "source": [
    "lista_regionali = lista_regionali[lista_regionali[\"ora\"]!=0]\n",
    "lista_altri_treni = lista_altri_treni[lista_altri_treni[\"ora\"]!=0]"
   ]
  },
  {
   "cell_type": "code",
   "execution_count": null,
   "metadata": {},
   "outputs": [],
   "source": [
    "for orario in lista_regionali[\"ora\"]:\n",
    "    datetime.strptime(str(orario), \"%H:%M\")\n",
    "\n",
    "for orario in lista_altri_treni[\"ora\"]:\n",
    "    datetime.strptime(str(orario), \"%H:%M\")"
   ]
  },
  {
   "cell_type": "code",
   "execution_count": null,
   "metadata": {},
   "outputs": [],
   "source": [
    "lista_regionali[\"ora_ok\"] = lista_regionali[\"ora\"].apply(lambda x: datetime.strptime(str(x), \"%H:%M\"))\n",
    "lista_altri_treni[\"ora_ok\"] = lista_altri_treni[\"ora\"].apply(lambda x: datetime.strptime(str(x), \"%H:%M\"))"
   ]
  },
  {
   "cell_type": "code",
   "execution_count": null,
   "metadata": {},
   "outputs": [],
   "source": [
    "lista_regionali[\"differenza\"] = lista_regionali[\"ora_ok\"].apply(lambda x: (datetime.strptime(\"22:50\",\"%H:%M\") - x)\n",
    "                                                                                if (datetime.strptime(\"22:50\",\"%H:%M\") - x)>(datetime.strptime(\"22:50\",\"%H:%M\") - datetime.strptime(\"22:50\",\"%H:%M\"))\n",
    "                                                                                else (datetime.strptime(\"22:50\",\"%H:%M\") - datetime.strptime(\"22:50\",\"%H:%M\")))\n",
    "\n",
    "lista_altri_treni[\"differenza\"] = lista_altri_treni[\"ora_ok\"].apply(lambda x: (datetime.strptime(\"22:50\",\"%H:%M\") - x)\n",
    "                                                                                if (datetime.strptime(\"22:50\",\"%H:%M\") - x)>(datetime.strptime(\"22:50\",\"%H:%M\") - datetime.strptime(\"22:50\",\"%H:%M\"))\n",
    "                                                                                else (datetime.strptime(\"22:50\",\"%H:%M\") - datetime.strptime(\"22:50\",\"%H:%M\")))"
   ]
  },
  {
   "cell_type": "code",
   "execution_count": null,
   "metadata": {},
   "outputs": [],
   "source": [
    "media_regionali = lista_regionali[\"differenza\"].mean()\n",
    "media_altri = lista_altri_treni[\"differenza\"].mean()"
   ]
  }
 ],
 "metadata": {
  "kernelspec": {
   "display_name": "Python 3.10.7 64-bit",
   "language": "python",
   "name": "python3"
  },
  "language_info": {
   "name": "python",
   "version": "3.10.7"
  },
  "orig_nbformat": 4,
  "vscode": {
   "interpreter": {
    "hash": "e7370f93d1d0cde622a1f8e1c04877d8463912d04d973331ad4851f04de6915a"
   }
  }
 },
 "nbformat": 4,
 "nbformat_minor": 2
}
