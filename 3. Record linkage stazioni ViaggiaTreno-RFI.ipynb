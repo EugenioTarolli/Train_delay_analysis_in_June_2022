{
 "cells": [
  {
   "cell_type": "code",
   "execution_count": null,
   "metadata": {},
   "outputs": [],
   "source": [
    "import pandas as pd\n",
    "import recordlinkage"
   ]
  },
  {
   "cell_type": "markdown",
   "metadata": {},
   "source": [
    "Importazione dataset."
   ]
  },
  {
   "cell_type": "code",
   "execution_count": null,
   "metadata": {},
   "outputs": [],
   "source": [
    "stazioni_vt = pd.read_csv('stazioni_vt.csv')\n",
    "stazioni_vt.drop_duplicates(inplace=True)\n",
    "stazioni_vt['nome_stazione'] = stazioni_vt['nome_stazione'].str.lower()\n",
    "stazioni_vt['nome_stazione'] = stazioni_vt['nome_stazione'].str.replace(' ', '-', regex=False)\n",
    "stazioni_vt['nome_stazione'] = stazioni_vt['nome_stazione'].str.replace('.', '-', regex=False)\n",
    "stazioni_vt['nome_stazione'] = stazioni_vt['nome_stazione'].str.replace('s-', 'san-', regex=False)\n",
    "stazioni_vt['nome_stazione'] = stazioni_vt['nome_stazione'].str.replace('sant-', 'san-', regex=False)\n",
    "stazioni_vt['nome_stazione'] = stazioni_vt['nome_stazione'].str.replace('c-le', 'centrale', regex=False)\n",
    "stazioni_vt['nome_stazione'] = stazioni_vt['nome_stazione'].str.replace('[a-z]`', '-', regex=True)\n",
    "stazioni_vt['nome_stazione'] = stazioni_vt['nome_stazione'].str.replace('--', '-', regex=False)\n",
    "stazioni_vt.rename(columns={'nome_stazione':'nome_stazione_vt'}, inplace=True)"
   ]
  },
  {
   "cell_type": "code",
   "execution_count": null,
   "metadata": {},
   "outputs": [],
   "source": [
    "stazioni_rfi = pd.read_json('/home/luca/GoogleDriveUni/Universita/Data Management/Progetto Data Man/stazioni_binari.json', orient = 'index')\n",
    "stazioni_rfi.reset_index(inplace=True)\n",
    "stazioni_vt.drop_duplicates(inplace=True)\n",
    "stazioni_rfi.drop(0, axis=1, inplace=True)\n",
    "stazioni_rfi['index'] = stazioni_rfi['index'].str.replace(' ', '-', regex=False)\n",
    "stazioni_rfi['index'] = stazioni_rfi['index'].str.replace('.', '-', regex=False)\n",
    "stazioni_rfi['index'] = stazioni_rfi['index'].str.replace('s-', 'san-', regex=False)\n",
    "stazioni_rfi['index'] = stazioni_rfi['index'].str.replace('sant-', 'san-', regex=False)\n",
    "stazioni_rfi['index'] = stazioni_rfi['index'].str.replace('c-le', 'centrale', regex=False)\n",
    "stazioni_rfi['index'] = stazioni_rfi['index'].str.replace('--', '-', regex=False)\n",
    "stazioni_rfi.rename(columns={'index':'nome_stazione_rfi'}, inplace=True)"
   ]
  },
  {
   "cell_type": "markdown",
   "metadata": {},
   "source": [
    "Record linkage."
   ]
  },
  {
   "cell_type": "code",
   "execution_count": null,
   "metadata": {},
   "outputs": [],
   "source": [
    "indexer = recordlinkage.Index()\n",
    "indexer.full()\n",
    "pairs = indexer.index(stazioni_vt, stazioni_rfi)"
   ]
  },
  {
   "cell_type": "code",
   "execution_count": null,
   "metadata": {},
   "outputs": [],
   "source": [
    "compare_cl = recordlinkage.Compare()\n",
    "compare_cl.string('nome_stazione_vt', 'nome_stazione_rfi', method=\"jarowinkler\", label='nome_stazioni')\n",
    "features = compare_cl.compute(pairs, stazioni_vt, stazioni_rfi)"
   ]
  },
  {
   "cell_type": "code",
   "execution_count": null,
   "metadata": {},
   "outputs": [],
   "source": [
    "features_match = features[features['nome_stazioni'] == 1]\n",
    "features_match.reset_index(inplace=True)"
   ]
  },
  {
   "cell_type": "code",
   "execution_count": null,
   "metadata": {},
   "outputs": [],
   "source": [
    "stazioni_vt_nm = stazioni_vt.drop(features_match['level_0'])\n",
    "stazioni_rfi_nm = stazioni_rfi.drop(features_match['level_1'])"
   ]
  },
  {
   "cell_type": "code",
   "execution_count": null,
   "metadata": {},
   "outputs": [],
   "source": [
    "indexer = recordlinkage.Index()\n",
    "indexer.full()\n",
    "pairs = indexer.index(stazioni_vt_nm, stazioni_rfi_nm)"
   ]
  },
  {
   "cell_type": "code",
   "execution_count": null,
   "metadata": {},
   "outputs": [],
   "source": [
    "compare_cl = recordlinkage.Compare()\n",
    "compare_cl.string('nome_stazione_vt', 'nome_stazione_rfi', method=\"jarowinkler\", label='nome_stazioni')\n",
    "features_2 = compare_cl.compute(pairs, stazioni_vt_nm, stazioni_rfi_nm)"
   ]
  },
  {
   "cell_type": "code",
   "execution_count": null,
   "metadata": {},
   "outputs": [],
   "source": [
    "features_match_2 = features_2[features_2['nome_stazioni'] > 0.9]\n",
    "features_match_2.reset_index(inplace=True)\n",
    "features_match_2 = features_match_2.loc[features_match_2.groupby('level_0')['nome_stazioni'].idxmax()]\n",
    "final = pd.concat([features_match, features_match_2])\n",
    "final.rename(columns={'level_0':'id_vt', 'level_1':'id_rfi','nome_stazioni':'somigl_nomi_stazioni'}, inplace=True)\n",
    "final.to_csv('matching stazioni_vt-stazioni_rfi.csv')"
   ]
  },
  {
   "cell_type": "code",
   "execution_count": null,
   "metadata": {},
   "outputs": [],
   "source": [
    "stazioni_mancanti = stazioni_vt_nm.drop(features_match_2['level_0'])\n",
    "stazioni_mancanti.to_csv('stazioni mancanti.csv', index=False, header=False)"
   ]
  }
 ],
 "metadata": {
  "kernelspec": {
   "display_name": "Python 3.10.7 64-bit",
   "language": "python",
   "name": "python3"
  },
  "language_info": {
   "name": "python",
   "version": "3.10.7"
  },
  "orig_nbformat": 4,
  "vscode": {
   "interpreter": {
    "hash": "e7370f93d1d0cde622a1f8e1c04877d8463912d04d973331ad4851f04de6915a"
   }
  }
 },
 "nbformat": 4,
 "nbformat_minor": 2
}
