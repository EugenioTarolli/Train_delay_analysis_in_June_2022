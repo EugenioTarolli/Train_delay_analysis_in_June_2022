{
 "cells": [
  {
   "cell_type": "code",
   "execution_count": null,
   "metadata": {},
   "outputs": [],
   "source": [
    "import pandas as pd\n",
    "import numpy as np\n",
    "import re\n",
    "import time\n",
    "\n",
    "from bs4 import BeautifulSoup\n",
    "import requests\n",
    "\n",
    "import selenium\n",
    "from selenium import webdriver\n",
    "from selenium.webdriver.chrome.service import Service as ChromeService\n",
    "from webdriver_manager.chrome import ChromeDriverManager\n",
    "from webdriver_manager.core.utils import ChromeType\n",
    "from selenium.webdriver.common.keys import Keys\n",
    "from selenium.webdriver.common.by import By\n",
    "from selenium.webdriver.support.ui import WebDriverWait\n",
    "from selenium.webdriver.support import expected_conditions as EC\n",
    "\n",
    "import asyncio\n",
    "import aiohttp\n",
    "import json"
   ]
  },
  {
   "cell_type": "markdown",
   "metadata": {},
   "source": [
    "Scraping dal sito RFI."
   ]
  },
  {
   "cell_type": "code",
   "execution_count": null,
   "metadata": {},
   "outputs": [],
   "source": [
    "url = \"https://www.rfi.it/it/stazioni.html\"\n",
    "\n",
    "def browser():\n",
    "    driver = webdriver.Chrome(service=ChromeService(ChromeDriverManager().install()))\n",
    "    driver.get(url)\n",
    "    return driver\n",
    "    time.sleep(3)\n",
    "\n",
    "def main():\n",
    "    driver = browser()\n",
    "    driver.find_element(By.ID, \"onetrust-reject-all-handler\").click()\n",
    "    \n",
    "    time.sleep(10)\n",
    "    \n",
    "    stazioni = []\n",
    "\n",
    "    for i in range(259):\n",
    "        elements = driver.find_elements(By.CLASS_NAME, \"stazione\")\n",
    "\n",
    "        for element in elements:\n",
    "            print(element.text)\n",
    "            stazioni.append(element.text)\n",
    "\n",
    "        WebDriverWait(driver, 30).until(EC.element_to_be_clickable((By.CSS_SELECTOR, \".btn-fs.has-icon-right.icon--chevron-right.pagination--next-btn\"))).click()\n",
    "\n",
    "    elements = driver.find_elements(By.CLASS_NAME, \"stazione\")\n",
    "\n",
    "    for element in elements:\n",
    "        print(element.text)\n",
    "        stazioni.append(element.text)\n",
    "\n",
    "    time.sleep(10)\n",
    "    print(stazioni)\n",
    "    return stazioni"
   ]
  },
  {
   "cell_type": "code",
   "execution_count": null,
   "metadata": {},
   "outputs": [],
   "source": [
    "stazioni = main()"
   ]
  },
  {
   "cell_type": "code",
   "execution_count": null,
   "metadata": {},
   "outputs": [],
   "source": [
    "for i in range(len(stazioni)):\n",
    "  stazioni[i] = stazioni[i].lower()\n",
    "  stazioni[i] = stazioni[i].replace(' ', '-')\n",
    "  stazioni[i] = stazioni[i].replace('.', '-')"
   ]
  },
  {
   "cell_type": "code",
   "execution_count": null,
   "metadata": {},
   "outputs": [],
   "source": [
    "siti = []\n",
    "for stazione in stazioni:\n",
    "    siti.append(\"https://www.rfi.it/it/stazioni/\" + stazione + \".html\")\n",
    "\n",
    "staz_siti = list(zip(stazioni, siti))\n",
    "\n",
    "stazioni_binari= {}"
   ]
  },
  {
   "cell_type": "code",
   "execution_count": null,
   "metadata": {},
   "outputs": [],
   "source": [
    "async def get(url, stazione, session):\n",
    "    try:\n",
    "        async with session.get(url=url) as response:\n",
    "            resp = await response.text()\n",
    "            resp = resp.split(\"Questa stazione è dotata complessivamente di *\")\n",
    "            numero_binari = resp[1].split(\"binari*\")[0]\n",
    "            print(numero_binari)\n",
    "\n",
    "            stazioni_binari[stazione]= numero_binari\n",
    "            print(stazione, ':', stazioni_binari[stazione])\n",
    "\n",
    "            print(\"Successfully got url {} with resp of length {}.\".format(url, len(resp[1])))\n",
    "    except Exception as e:\n",
    "        print(\"Unable to get url {} due to {}.\".format(url, e.__class__))\n",
    "\n",
    "async def main(urls):\n",
    "    async with aiohttp.ClientSession() as session:\n",
    "        ret = await asyncio.gather(*[get(url, stazione, session) for stazione, url in urls])\n",
    "    print(\"Finalized all. Return is a list of len {} outputs.\".format(len(ret)))"
   ]
  },
  {
   "cell_type": "code",
   "execution_count": null,
   "metadata": {},
   "outputs": [],
   "source": [
    "await main(staz_siti)"
   ]
  },
  {
   "cell_type": "code",
   "execution_count": null,
   "metadata": {},
   "outputs": [],
   "source": [
    "with open('stazioni_binari.json', 'w') as outfile:\n",
    "    json.dump(stazioni_binari, outfile)"
   ]
  }
 ],
 "metadata": {
  "kernelspec": {
   "display_name": "Python 3.10.7 64-bit",
   "language": "python",
   "name": "python3"
  },
  "language_info": {
   "name": "python",
   "version": "3.10.7"
  },
  "orig_nbformat": 4,
  "vscode": {
   "interpreter": {
    "hash": "e7370f93d1d0cde622a1f8e1c04877d8463912d04d973331ad4851f04de6915a"
   }
  }
 },
 "nbformat": 4,
 "nbformat_minor": 2
}
