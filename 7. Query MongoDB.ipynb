{
 "cells": [
  {
   "cell_type": "code",
   "execution_count": null,
   "metadata": {},
   "outputs": [],
   "source": [
    "import pandas as pd\n",
    "from datetime import datetime\n",
    "import pymongo\n",
    "from pymongo import MongoClient\n",
    "from bson.son import SON"
   ]
  },
  {
   "cell_type": "code",
   "execution_count": null,
   "metadata": {},
   "outputs": [],
   "source": [
    "client = MongoClient('localhost', 27017)\n",
    "db = client.DataManagement\n",
    "treni_regionali = db.TreniRegionali\n",
    "altri_treni = db.AltriTreni"
   ]
  },
  {
   "cell_type": "markdown",
   "metadata": {},
   "source": [
    "Creazione del campo _numero_fermate_."
   ]
  },
  {
   "cell_type": "code",
   "execution_count": null,
   "metadata": {},
   "outputs": [],
   "source": [
    "pipeline = [{\"$project\":\n",
    "                {\"numero_fermate\": { \"$cond\": { \"if\": {\"$isArray\": \"$fermate\"},\n",
    "                                                \"then\": {\"$size\": \"$fermate\"}, \"else\": None}}\n",
    "                }}]\n",
    "\n",
    "lista_regionali = list(treni_regionali.aggregate(pipeline))\n",
    "lista_altri_treni = list(altri_treni.aggregate(pipeline))\n",
    "\n",
    "for elemento in lista_regionali :\n",
    "    indice = elemento[\"_id\"]\n",
    "    numero_fermate = elemento[\"numero_fermate\"]\n",
    "    treni_regionali.find_one_and_update({\"_id\": indice}, {\"$set\": {\"numero_fermate\": numero_fermate}})\n",
    "\n",
    "for elemento in lista_altri_treni:\n",
    "    indice = elemento[\"_id\"]\n",
    "    numero_fermate = elemento[\"numero_fermate\"]\n",
    "    altri_treni.find_one_and_update({\"_id\": indice}, {\"$set\": {\"numero_fermate\": numero_fermate}})"
   ]
  },
  {
   "cell_type": "markdown",
   "metadata": {},
   "source": [
    "Creazione del campo _ritardo_medio_treno_."
   ]
  },
  {
   "cell_type": "code",
   "execution_count": null,
   "metadata": {},
   "outputs": [],
   "source": [
    "pipeline = [{\"$unwind\":\"$fermate\"},\n",
    "            {\"$group\": {\"_id\": {\"id\": \"$_id\", \"numero_treno\": \"$numero_treno\",\n",
    "                                \"id_origine\": \"$id_origine\", \"id_destinazione\": \"$id_destinazione\"},\n",
    "                                \"ritardo_medio_treno\": {\"$avg\": {\"$cond\":\n",
    "                                                            [{\"$eq\":[\"$fermate.tipo_fermata\", \"P\"]},\n",
    "                                                            \"$fermate.ritardo_partenza\",\n",
    "                                                            \"$fermate.ritardo_arrivo\"]\n",
    "                                                            }}}}]\n",
    "\n",
    "lista_regionali = list(treni_regionali.aggregate(pipeline))\n",
    "lista_altri_treni = list(altri_treni.aggregate(pipeline))\n",
    "\n",
    "for elemento in lista_regionali :\n",
    "    indice = elemento[\"_id\"][\"id\"]\n",
    "    ritardo_medio_treno = elemento[\"ritardo_medio_treno\"]\n",
    "    treni_regionali.find_one_and_update({\"_id\": indice}, {\"$set\": {\"ritardo_medio_treno\": ritardo_medio_treno}})\n",
    "\n",
    "for elemento in lista_altri_treni:\n",
    "    indice = elemento[\"_id\"][\"id\"]\n",
    "    ritardo_medio_treno = elemento[\"ritardo_medio_treno\"]\n",
    "    altri_treni.find_one_and_update({\"_id\": indice}, {\"$set\": {\"ritardo_medio_treno\": ritardo_medio_treno}})"
   ]
  },
  {
   "cell_type": "markdown",
   "metadata": {},
   "source": [
    "Calcolo del ritardo medio per ogni treno regionale, ordinato in ordine decrescente."
   ]
  },
  {
   "cell_type": "code",
   "execution_count": null,
   "metadata": {},
   "outputs": [],
   "source": [
    "pipeline = [{\"$group\": {\"_id\": {\"numero_treno\":\"$numero_treno\",\n",
    "                        \"id_origine\":\"$idOrigine\",\n",
    "                        \"id_destinazione\":\"$idDestinazione\"},\n",
    "                \"ritardo_medio\": {\"$avg\": \"$ritardo_finale\"}}},\n",
    "            {\"$sort\": SON ([(\"ritardo_medio\", -1)])}]\n",
    "\n",
    "lista_ritardi_regionali = pd.DataFrame(list(treni_regionali.aggregate(pipeline)))"
   ]
  },
  {
   "cell_type": "markdown",
   "metadata": {},
   "source": [
    "Calcolo del ritardo medio per ogni stazione."
   ]
  },
  {
   "cell_type": "code",
   "execution_count": null,
   "metadata": {},
   "outputs": [],
   "source": [
    "pipeline = [{\"$unwind\":\"$fermate\"},\n",
    "            {\"$group\": {\"_id\": \"$fermate.nome_stazione\",\n",
    "                        \"binari\": {\"$first\": \"$fermate.binari_tot_stazione\"},\n",
    "                        \"ritardo_medio_stazione\": {\"$avg\": {\"$cond\":\n",
    "                                                            [{\"$eq\":[\"$fermate.tipo_fermata\", \"P\"]},\n",
    "                                                            \"$fermate.ritardo_partenza\",\n",
    "                                                            \"$fermate.ritardo_arrivo\"]\n",
    "                                                            }}}}]\n",
    "\n",
    "lista_ritardi_regionali_stazione = pd.DataFrame(list(treni_regionali.aggregate(pipeline)))\n",
    "lista__ritardi_altri_treni_stazione = pd.DataFrame(list(altri_treni.aggregate(pipeline)))"
   ]
  }
 ],
 "metadata": {
  "kernelspec": {
   "display_name": "Python 3.10.7 64-bit",
   "language": "python",
   "name": "python3"
  },
  "language_info": {
   "name": "python",
   "version": "3.10.7"
  },
  "orig_nbformat": 4,
  "vscode": {
   "interpreter": {
    "hash": "e7370f93d1d0cde622a1f8e1c04877d8463912d04d973331ad4851f04de6915a"
   }
  }
 },
 "nbformat": 4,
 "nbformat_minor": 2
}
