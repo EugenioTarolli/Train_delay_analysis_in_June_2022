{
 "cells": [
  {
   "cell_type": "code",
   "execution_count": null,
   "metadata": {},
   "outputs": [],
   "source": [
    "import pandas as pd\n",
    "import requests\n",
    "import csv\n",
    "from threading import Timer\n",
    "import json\n",
    "import time\n",
    "import os\n",
    "import datetime\n",
    "import pymongo\n",
    "from pymongo import MongoClient"
   ]
  },
  {
   "cell_type": "markdown",
   "metadata": {},
   "source": [
    "Scaricamento lista di tutte le stazioni."
   ]
  },
  {
   "cell_type": "code",
   "execution_count": null,
   "metadata": {},
   "outputs": [],
   "source": [
    "temp = []\n",
    "stazioni = []\n",
    "for i in range(65,91):\n",
    "    r = requests.get(\"http://www.viaggiatreno.it/infomobilita/resteasy/viaggiatreno/autocompletaStazione/\" + chr(i))\n",
    "    temp.append(r.text.split(\"\\n\"))\n",
    "\n",
    "for i in temp:\n",
    "    for j in range(0,len(i)-1):\n",
    "        stazioni.append(i[j])\n",
    "\n",
    "stripped = (line.strip() for line in stazioni)\n",
    "lines = (line.split(\"|\") for line in stripped if line)\n",
    "\n",
    "with open('stazioni.csv',  'w') as out_file:\n",
    "    writer = csv.writer(out_file)\n",
    "    writer.writerow(('nome_stazione', 'id'))\n",
    "    writer.writerows(lines)"
   ]
  },
  {
   "cell_type": "markdown",
   "metadata": {},
   "source": [
    "Creazione dei dizionari treni_stazioni e treni_partenze (per il giorno seguente)."
   ]
  },
  {
   "cell_type": "code",
   "execution_count": null,
   "metadata": {},
   "outputs": [],
   "source": [
    "data = pd.read_csv(\"stazioni.csv\")"
   ]
  },
  {
   "cell_type": "code",
   "execution_count": null,
   "metadata": {},
   "outputs": [],
   "source": [
    "def crea_dizionari():\n",
    "    \n",
    "    df = pd.read_csv('stazioni.csv')\n",
    "    stazioni = df[\"id\"]\n",
    "    mese = \"Jun\"\n",
    "    anno = 2022\n",
    "    giorni_settimana = ['Mon','Tue','Wed','Thu','Fri','Sat','Sun','Mon']\n",
    "    giorno_settimana = giorni_settimana[datetime.datetime.today().weekday()+1]\n",
    "    treni_stazioni = {}\n",
    "    treni_partenze = {}\n",
    "    \n",
    "    giorno = int(time.strftime(\"%d\")) + 1\n",
    "    tratta = list()\n",
    "    count = 0\n",
    "    for i in stazioni:\n",
    "        count += 1\n",
    "        for h in range(1,23,2):\n",
    "            try:\n",
    "               r = requests.get(\"http://www.viaggiatreno.it/infomobilita/resteasy/viaggiatreno/partenze/\" \n",
    "                                + i + \"/\" + giorno_settimana +\n",
    "                                \"%20\"+ mese +\"%20\" + str(giorno) +\"%20\" + str(anno) + \"%20\" \n",
    "                                + str(h) + \":00:00%20GMT+0100\")\n",
    "\n",
    "            except (requests.ConnectionError, requests.Timeout, requests.RequestException) as e:\n",
    "                print(\"OOPS!! Connection Error. Make sure you are connected to Internet.\\n\")\n",
    "                print(\"I'm gonna take a break...\\n\")\n",
    "                time.sleep(10)\n",
    "                r = requests.get(\"http://www.viaggiatreno.it/infomobilita/resteasy/viaggiatreno/partenze/\" + i + \"/\" + giorno_settimana +\n",
    "                                \"%20\"+ mese +\"%20\" + str(giorno) +\"%20\" + str(anno) + \"%20\" + str(h) + \":00:00%20GMT+0100\")            \n",
    "          \n",
    "            except KeyboardInterrupt:\n",
    "                print(\"Someone closed the program\")\n",
    "   \n",
    "            if r.status_code == 200:\n",
    "                tratta.append(r.json())\n",
    "\n",
    "        for ora in tratta:\n",
    "            for treno in ora:\n",
    "                if treno['codOrigine'] == i:\n",
    "                    treni_stazioni[treno['numeroTreno']] = treno['codOrigine']\n",
    "                    treni_partenze[treno['numeroTreno']] = treno['orarioPartenza']\n",
    "        tratta = list()\n",
    "        print(count)\n",
    "    \n",
    "    with open('treni_stazioni_' + str(datetime.date.today() + datetime.timedelta(days=1)) +'.json', 'w') as outfile:\n",
    "        json.dump(treni_stazioni, outfile)\n",
    "    \n",
    "    with open('treni_partenze_' + str(datetime.date.today() + datetime.timedelta(days=1)) +'.json', 'w') as outfile:\n",
    "        json.dump(treni_partenze, outfile)"
   ]
  },
  {
   "cell_type": "code",
   "execution_count": null,
   "metadata": {},
   "outputs": [],
   "source": [
    "crea_dizionari()"
   ]
  },
  {
   "cell_type": "markdown",
   "metadata": {},
   "source": [
    "Scaricamento dati treni."
   ]
  },
  {
   "cell_type": "code",
   "execution_count": null,
   "metadata": {},
   "outputs": [],
   "source": [
    "client = MongoClient('localhost', 27017)\n",
    "db = client.dati_viaggiatreno"
   ]
  },
  {
   "cell_type": "code",
   "execution_count": null,
   "metadata": {},
   "outputs": [],
   "source": [
    "#TIMER\n",
    "x = datetime.datetime.today()\n",
    "y = x.replace(day=x.day, hour=22, minute=50, second=0, microsecond=0)\n",
    "delta_t = y-x\n",
    "secs = delta_t.seconds+1"
   ]
  },
  {
   "cell_type": "code",
   "execution_count": null,
   "metadata": {},
   "outputs": [],
   "source": [
    "def createFolder(directory):\n",
    "    try:\n",
    "        if not os.path.exists(directory):\n",
    "            os.makedirs(directory)\n",
    "    except OSError:\n",
    "        print ('Error: Creating directory. ' +  directory)"
   ]
  },
  {
   "cell_type": "code",
   "execution_count": null,
   "metadata": {},
   "outputs": [],
   "source": [
    "def richieste_viaggiotreno():\n",
    "    \n",
    "    print(\"Start: \" + time.strftime(\"%H:%M:%S\"))\n",
    "    treni_stazioni = json.loads(open(\"treni_stazioni_\" + str(datetime.date.today()) + \".json\").read())\n",
    "    treni_partenze = json.loads(open(\"treni_partenze_\" + str(datetime.date.today()) + \".json\").read())\n",
    "\n",
    "    createFolder(time.strftime(\"%d-%m-%Y\"))\n",
    "    treni = []\n",
    "    time.strftime(\"%d-%m-%Y\")\n",
    "    for i in treni_stazioni.keys():\n",
    "        treni.append(i)\n",
    "        \n",
    "    giorno = db[time.strftime(\"%d-%m-%Y\")]\n",
    "    \n",
    "    temp = []\n",
    "    count = 0\n",
    "    conn_error = 0\n",
    "    timeout_error = 0\n",
    "    gen_error = 0\n",
    "    \n",
    "    for i in range(0,len(treni_stazioni)):\n",
    "\n",
    "        try:\n",
    "            r = requests.get(\"http://www.viaggiatreno.it/infomobilita/resteasy/viaggiatreno/andamentoTreno/\" \n",
    "                             + str(treni_stazioni[treni[i]]) + \"/\" + str(treni[i]) + \"/\" + str(treni_partenze[treni[i]]))\n",
    "\n",
    "        except (requests.ConnectionError, requests.Timeout, requests.RequestException) as e:\n",
    "            timeout_error += 1\n",
    "            print(\"OOPS!! Timeout Error\")\n",
    "            print(\"I'm gonna take a break...\\n\")\n",
    "            time.sleep(10)\n",
    "            \n",
    "            print(\"I'm restarting from station:\",treni_stazioni[treni[i]],\" - train: \",treni[i],\"\\n\")\n",
    "            r = requests.get(\"http://www.viaggiatreno.it/infomobilita/resteasy/viaggiatreno/andamentoTreno/\" + str(treni_stazioni[treni[i]]) + \"/\" + str(treni[i]) + \"/\" + str(treni_partenze[treni[i]]))\n",
    "\n",
    "        except KeyboardInterrupt:\n",
    "            print(\"Someone closed the program\")\n",
    "    \n",
    "        if r.status_code == 200:\n",
    "            temp.append(r.json())\n",
    "            \n",
    "            with open(time.strftime(\"%d-%m-%Y\") +'/' + str(treni[i]) + '_' + time.strftime(\"%d-%m-%Y\") + '.json', 'w') as outfile:\n",
    "                json.dump(temp, outfile)\n",
    "            x = giorno.insert_many(temp)\n",
    "            \n",
    "            temp = list()\n",
    "            print (\"File: \", count, \" - station: \", treni_stazioni[treni[i]],\" - train: \",treni[i],\" - starting time: \",treni_partenze[treni[i]],\"\\n\" )\n",
    "            count += 1\n",
    "\n",
    "    print(\"End:\" + time.strftime(\"%H:%M:%S\"))\n",
    "    print(\"Connection Error: \", conn_error)\n",
    "    print(\"Timeout Error: \", timeout_error)\n",
    "    print(\"General Error: \", gen_error)"
   ]
  },
  {
   "cell_type": "code",
   "execution_count": null,
   "metadata": {},
   "outputs": [],
   "source": [
    "t = Timer(secs, richieste_viaggiotreno)\n",
    "t.start()"
   ]
  }
 ],
 "metadata": {
  "kernelspec": {
   "display_name": "Python 3.10.4 ('mongo')",
   "language": "python",
   "name": "python3"
  },
  "language_info": {
   "name": "python",
   "version": "3.10.4"
  },
  "orig_nbformat": 4,
  "vscode": {
   "interpreter": {
    "hash": "916ba75e41e692f87c3b7f47baccd7dd9125a167b2534fe1db1a177877cf98fa"
   }
  }
 },
 "nbformat": 4,
 "nbformat_minor": 2
}
